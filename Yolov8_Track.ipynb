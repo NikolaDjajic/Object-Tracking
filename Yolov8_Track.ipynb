{
 "cells": [
  {
   "cell_type": "code",
   "execution_count": null,
   "metadata": {},
   "outputs": [],
   "source": [
    "from ultralytics import YOLO\n",
    "import cv2"
   ]
  },
  {
   "cell_type": "code",
   "execution_count": null,
   "metadata": {},
   "outputs": [],
   "source": [
    "model = YOLO('yolov8n.pt') \n",
    "# model = YOLO('mojY8nC2E30.pt')\n",
    "model.fuse()\n",
    "video = (r\"Videos\\Single\\car-driving-down-dusty-rural-road_wj0nb1igh__8d46943ef56c2a1d6a5d670235d0c25c__P360.mp4\")\n",
    "results = model.track(source = video, show = True , tracker=\"bytetrack.yaml\")"
   ]
  },
  {
   "cell_type": "code",
   "execution_count": null,
   "metadata": {},
   "outputs": [],
   "source": [
    "video_path = r\"Videos\\14029190-hd_1280_720_25fps.mp4\"\n",
    "cap = cv2.VideoCapture(video_path)\n",
    "\n",
    "while cap.isOpened():\n",
    "    _, frame = cap.read()\n",
    "\n",
    "    assert _\n",
    "    results = model.track(frame, persist=True)\n",
    "    annotated_frame = results[0].plot()\n",
    "    cv2.imshow(\"YOLOv8 Tracking\", annotated_frame)\n",
    "\n",
    "    if cv2.waitKey(1) == ord('q'):\n",
    "        break\n",
    "\n",
    "cap.release()\n",
    "cv2.destroyAllWindows()"
   ]
  }
 ],
 "metadata": {
  "kernelspec": {
   "display_name": "Python 3",
   "language": "python",
   "name": "python3"
  },
  "language_info": {
   "codemirror_mode": {
    "name": "ipython",
    "version": 3
   },
   "file_extension": ".py",
   "mimetype": "text/x-python",
   "name": "python",
   "nbconvert_exporter": "python",
   "pygments_lexer": "ipython3",
   "version": "3.12.0"
  }
 },
 "nbformat": 4,
 "nbformat_minor": 2
}
