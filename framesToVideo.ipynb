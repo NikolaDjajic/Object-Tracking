{
 "cells": [
  {
   "cell_type": "code",
   "execution_count": null,
   "metadata": {},
   "outputs": [],
   "source": [
    "import os\n",
    "import cv2"
   ]
  },
  {
   "cell_type": "code",
   "execution_count": 1,
   "metadata": {},
   "outputs": [
    {
     "name": "stdout",
     "output_type": "stream",
     "text": [
      "Video je uspešno generisan.\n"
     ]
    }
   ],
   "source": [
    "def generate_video(): \n",
    "    image_folder = r'C:\\Users\\pc\\Desktop\\New folder\\Object-Tracking\\cars2-1\\test\\images'\n",
    "    video_name = 'testVideo.mp4'\n",
    "    output_dir = r\"C:\\Users\\pc\\Desktop\\New folder\\Object-Tracking\\Videos\"\n",
    "\n",
    "    if not os.path.exists(image_folder):\n",
    "        print(\"Direktorijum sa slikama ne postoji.\")\n",
    "        return\n",
    "\n",
    "    images = [img for img in os.listdir(image_folder) \n",
    "              if img.endswith(\".jpg\") or\n",
    "                 img.endswith(\".jpeg\") or\n",
    "                 img.endswith(\".png\")]\n",
    "\n",
    "    if not images:\n",
    "        print(\"Nema slika\")\n",
    "        return\n",
    "\n",
    "    frame = cv2.imread(os.path.join(image_folder, images[0])) \n",
    "    height, width, layers = frame.shape   \n",
    "\n",
    "    if height == 0 or width == 0:\n",
    "        print(\"Lose dimenzije.\")\n",
    "        return\n",
    "\n",
    "    os.chdir(output_dir)\n",
    "\n",
    "    video = cv2.VideoWriter(video_name, cv2.VideoWriter_fourcc(*'mp4v'), 1, (width, height))\n",
    "\n",
    "    for image in images:  \n",
    "        img_path = os.path.join(image_folder, image)\n",
    "        frame = cv2.imread(img_path)\n",
    "        video.write(frame)\n",
    "\n",
    "    video.release()\n",
    "    print(\"Video generisan.\")"
   ]
  },
  {
   "cell_type": "code",
   "execution_count": 2,
   "metadata": {},
   "outputs": [
    {
     "name": "stdout",
     "output_type": "stream",
     "text": [
      "Video je uspešno generisan.\n"
     ]
    }
   ],
   "source": [
    "generate_video()"
   ]
  }
 ],
 "metadata": {
  "kernelspec": {
   "display_name": "Python 3",
   "language": "python",
   "name": "python3"
  },
  "language_info": {
   "codemirror_mode": {
    "name": "ipython",
    "version": 3
   },
   "file_extension": ".py",
   "mimetype": "text/x-python",
   "name": "python",
   "nbconvert_exporter": "python",
   "pygments_lexer": "ipython3",
   "version": "3.12.0"
  }
 },
 "nbformat": 4,
 "nbformat_minor": 2
}
